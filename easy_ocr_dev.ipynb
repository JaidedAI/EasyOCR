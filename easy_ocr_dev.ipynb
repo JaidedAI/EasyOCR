{
 "cells": [
  {
   "cell_type": "code",
   "execution_count": null,
   "metadata": {},
   "outputs": [],
   "source": [
    "# import torch\n",
    "# print(torch.cuda.is_available())\n",
    "# cuda_device = torch.device(\"cuda:0\" if torch.cuda.is_available else \"cpu\")\n",
    "# print(cuda_device)"
   ]
  },
  {
   "cell_type": "code",
   "execution_count": 1,
   "metadata": {},
   "outputs": [
    {
     "name": "stdout",
     "output_type": "stream",
     "text": [
      "Torch version: 1.9.1+cu111\n"
     ]
    },
    {
     "name": "stderr",
     "output_type": "stream",
     "text": [
      "/home/ystoll/PixelForest/easyocr/.easyocr_venv/lib/python3.8/site-packages/tqdm/auto.py:22: TqdmWarning: IProgress not found. Please update jupyter and ipywidgets. See https://ipywidgets.readthedocs.io/en/stable/user_install.html\n",
      "  from .autonotebook import tqdm as notebook_tqdm\n"
     ]
    }
   ],
   "source": [
    "%load_ext autoreload\n",
    "%autoreload 2\n",
    "\n",
    "import easyocr\n",
    "#from easyocr.easyocr import Reader\n",
    "import torch\n",
    "print(f\"Torch version: {torch.__version__}\")"
   ]
  },
  {
   "cell_type": "code",
   "execution_count": 28,
   "metadata": {},
   "outputs": [
    {
     "name": "stdout",
     "output_type": "stream",
     "text": [
      "['Mairie du /\"', '[Palais du LOUVRE', 'LES ARTS DÉCORATIFS', '[Musée du LOUVRe', 'Théâtre', 'du PALAIS-RoYAl^']\n"
     ]
    }
   ],
   "source": [
    "reader = easyocr.Reader(['fr'])\n",
    "# reader = easyocr.Reader(['en'])\n",
    "result = reader.readtext('examples/french.jpg', detail=0, decoder=\"wordbeamsearch\")\n",
    "print(result)"
   ]
  },
  {
   "cell_type": "code",
   "execution_count": 8,
   "metadata": {},
   "outputs": [
    {
     "name": "stdout",
     "output_type": "stream",
     "text": [
      "[{'boxes': [[0, 0], [692, 0], [692, 1024], [0, 1024]], 'text': '5', 'confident': 0.6201150760928478}]\n"
     ]
    }
   ],
   "source": [
    "reader = easyocr.Reader(['en', 'fr'])\n",
    "result = reader.recognize('examples/french.jpg',\n",
    "                          detail=1,\n",
    "                          output_format=\"dict\")\n",
    "print(result)"
   ]
  },
  {
   "cell_type": "code",
   "execution_count": null,
   "metadata": {},
   "outputs": [],
   "source": []
  },
  {
   "cell_type": "code",
   "execution_count": 14,
   "metadata": {},
   "outputs": [
    {
     "name": "stdout",
     "output_type": "stream",
     "text": [
      "Yannick\n",
      "'Prediction: torch.Size([1, 63, 352])'\n",
      "Yannick\n",
      "'Prediction: torch.Size([1, 63, 352])'\n",
      "Yannick\n",
      "'Prediction: torch.Size([1, 79, 352])'\n",
      "Yannick\n",
      "'Prediction: torch.Size([1, 79, 352])'\n",
      "Yannick\n",
      "'Prediction: torch.Size([1, 47, 352])'\n",
      "Yannick\n",
      "'Prediction: torch.Size([1, 79, 352])'\n",
      "Yannick\n",
      "'Prediction: torch.Size([1, 79, 352])'\n",
      "['Mairie du /\"', '[Palais du LOUVRE', 'LES ARTS DÉCORATIFS', '[Musée du LOUVRe', 'Théâtre', 'du PALAIS-RoYAl^']\n"
     ]
    }
   ],
   "source": [
    "reader = easyocr.Reader(['en', 'fr'])\n",
    "result = reader.readtext('examples/french.jpg', detail=0)\n",
    "print(result)"
   ]
  },
  {
   "cell_type": "code",
   "execution_count": 25,
   "metadata": {},
   "outputs": [
    {
     "name": "stdout",
     "output_type": "stream",
     "text": [
      "('M', 'a', 'i', 'r', 'i', 'e', ' ', 'd', 'u', ' ', '/', '\"', 'en')\n",
      "('[', 'P', 'a', 'l', 'a', 'i', 's', ' ', 'd', 'u', ' ', 'L', 'O', 'U', 'V', 'R', 'E', 'en')\n",
      "('L', 'E', 'S', ' ', 'A', 'R', 'T', 'S', ' ', 'D', 'É', 'C', 'O', 'R', 'A', 'T', 'I', 'F', 'S', 'en')\n",
      "('[', 'M', 'u', 's', 'é', 'e', ' ', 'd', 'u', ' ', 'L', 'O', 'U', 'V', 'R', 'e', 'en')\n",
      "('T', 'h', 'é', 'â', 't', 'r', 'e', 'en')\n",
      "('d', 'u', ' ', 'P', 'A', 'L', 'A', 'I', 'S', '-', 'R', 'o', 'Y', 'A', 'l', '^', 'en')\n",
      "('M', 'a', 'i', 'r', 'i', 'e', ' ', 'd', 'u', ' ', '/', '\"', 'ch')\n",
      "('T', 'h', 'é', 'â', 't', 'r', 'e', 'ch')\n",
      "('d', 'u', ' ', 'P', 'A', 'L', 'A', 'I', 'S', '-', 'R', 'o', 'Y', 'A', 'l', '^', 'ch')\n",
      "None\n"
     ]
    }
   ],
   "source": [
    "reader = easyocr.Reader(['fr'])\n",
    "result = reader.readtextlang('examples/french.jpg', detail=0)\n",
    "print(result)"
   ]
  },
  {
   "cell_type": "code",
   "execution_count": 29,
   "metadata": {},
   "outputs": [
    {
     "name": "stdout",
     "output_type": "stream",
     "text": [
      "[['Reduce your risk of coronavirus infection;', 'Clean hands with soap and water', \"'alcohol hased handruh\", 'Cover nose and mouth when coughing and', 'sneezing with tissue or flexed elhow', 'Avoid close contact with anyone with', 'coldor flu-Hike symptoms', 'Thoroughly cook meat andeggs', 'No unprotected contact with Jive wild', 'or farm animals', 'World Heakth', \"'Organization\"], ['Mairie du \"@', '[Palais du LOUVRE', 'LES ARTS DÉCORATIFS', 'Musée du LOUVRE', 'du PALAIS-ROYAL', '4', 'Théâtre']]\n"
     ]
    }
   ],
   "source": [
    "reader = easyocr.Reader(['fr', 'en'])\n",
    "result = reader.readtext_batched([ 'examples/english.png' , 'examples/french.jpg'], detail=0, n_width=600, n_height=600)\n",
    "print(result)"
   ]
  },
  {
   "cell_type": "code",
   "execution_count": null,
   "metadata": {},
   "outputs": [],
   "source": []
  },
  {
   "cell_type": "code",
   "execution_count": null,
   "metadata": {},
   "outputs": [],
   "source": []
  },
  {
   "cell_type": "code",
   "execution_count": null,
   "metadata": {},
   "outputs": [],
   "source": []
  }
 ],
 "metadata": {
  "kernelspec": {
   "display_name": "Python 3.8.10 ('.easyocr_venv': venv)",
   "language": "python",
   "name": "python3"
  },
  "language_info": {
   "codemirror_mode": {
    "name": "ipython",
    "version": 3
   },
   "file_extension": ".py",
   "mimetype": "text/x-python",
   "name": "python",
   "nbconvert_exporter": "python",
   "pygments_lexer": "ipython3",
   "version": "3.8.10"
  },
  "orig_nbformat": 4,
  "vscode": {
   "interpreter": {
    "hash": "4e7ed28815ff5fa6604e7428584610e00d12043870e25697ecfca17a117ee241"
   }
  }
 },
 "nbformat": 4,
 "nbformat_minor": 2
}
